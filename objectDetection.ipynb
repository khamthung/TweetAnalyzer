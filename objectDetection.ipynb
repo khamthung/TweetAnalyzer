{
 "cells": [
  {
   "cell_type": "code",
   "execution_count": 2,
   "metadata": {},
   "outputs": [
    {
     "name": "stderr",
     "output_type": "stream",
     "text": [
      "Using TensorFlow backend.\n"
     ]
    }
   ],
   "source": [
    "from imageai.Detection import ObjectDetection\n",
    "import os"
   ]
  },
  {
   "cell_type": "code",
   "execution_count": 5,
   "metadata": {},
   "outputs": [
    {
     "data": {
      "text/plain": [
       "'C:\\\\Users\\\\Arlen\\\\USC\\\\23_final_project\\\\TweetAnalyzer'"
      ]
     },
     "execution_count": 5,
     "metadata": {},
     "output_type": "execute_result"
    }
   ],
   "source": [
    "execution_path = os.getcwd()\n",
    "execution_path"
   ]
  },
  {
   "cell_type": "code",
   "execution_count": 34,
   "metadata": {},
   "outputs": [],
   "source": [
    "detector = ObjectDetection()\n",
    "detector.setModelTypeAsRetinaNet()\n",
    "detector.setModelPath(\"resources/resnet50_coco_best_v2.0.1.h5\")\n",
    "detector.loadModel()"
   ]
  },
  {
   "cell_type": "code",
   "execution_count": 31,
   "metadata": {},
   "outputs": [
    {
     "name": "stdout",
     "output_type": "stream",
     "text": [
      "car  :  99.17993545532227\n"
     ]
    }
   ],
   "source": [
    "detections = detector.detectObjectsFromImage(input_image=\"resources/images/07.jpg\",\n",
    "                                             output_image_path=\"resources/images/imagenew.jpg\")\n",
    "\n",
    "for eachObject in detections:\n",
    "    print(eachObject[\"name\"] , \" : \" , eachObject[\"percentage_probability\"] )"
   ]
  },
  {
   "cell_type": "code",
   "execution_count": 18,
   "metadata": {},
   "outputs": [],
   "source": [
    "from imageai.Prediction import ImagePrediction\n",
    "import os\n",
    "\n",
    "execution_path = os.getcwd()\n",
    "\n",
    "prediction = ImagePrediction()\n",
    "prediction.setModelTypeAsResNet()\n",
    "prediction.setModelPath(\"resources/resnet50_weights_tf_dim_ordering_tf_kernels.h5\")\n",
    "prediction.loadModel()"
   ]
  },
  {
   "cell_type": "code",
   "execution_count": 30,
   "metadata": {},
   "outputs": [
    {
     "name": "stdout",
     "output_type": "stream",
     "text": [
      "convertible  :  52.45957374572754\n",
      "sports_car  :  37.61281967163086\n",
      "pickup  :  3.1751181930303574\n",
      "car_wheel  :  1.8175028264522552\n",
      "minivan  :  1.7487041652202606\n",
      "grille  :  0.8300400339066982\n",
      "beach_wagon  :  0.5185171030461788\n",
      "racer  :  0.433731684461236\n",
      "cab  :  0.36954721435904503\n",
      "limousine  :  0.234546372666955\n"
     ]
    }
   ],
   "source": [
    "predictions, probabilities = prediction.predictImage(\"resources/images/07.jpg\", result_count=10)\n",
    "\n",
    "for eachPrediction, eachProbability in zip(predictions, probabilities):\n",
    "    print(eachPrediction , \" : \" , eachProbability)"
   ]
  },
  {
   "cell_type": "code",
   "execution_count": 35,
   "metadata": {},
   "outputs": [],
   "source": [
    "from imageai.Detection import ObjectDetection\n",
    "import os\n",
    "\n",
    "execution_path = os.getcwd()\n",
    "\n",
    "detector = ObjectDetection()\n",
    "detector.setModelTypeAsYOLOv3()\n",
    "detector.setModelPath(\"resources/yolo.h5\")\n",
    "detector.loadModel()\n"
   ]
  },
  {
   "cell_type": "code",
   "execution_count": 40,
   "metadata": {},
   "outputs": [
    {
     "name": "stdout",
     "output_type": "stream",
     "text": [
      "clock  :  50.878554582595825  :  (308, 1, 453, 79)\n",
      "--------------------------------\n",
      "car  :  41.267696022987366  :  (1038, 272, 1359, 530)\n",
      "--------------------------------\n",
      "car  :  64.54339027404785  :  (1127, 521, 1356, 716)\n",
      "--------------------------------\n",
      "person  :  99.15372729301453  :  (650, 210, 1091, 858)\n",
      "--------------------------------\n",
      "person  :  99.94637370109558  :  (48, 457, 246, 803)\n",
      "--------------------------------\n"
     ]
    }
   ],
   "source": [
    "detections = detector.detectObjectsFromImage(input_image=\"resources/images/06.jpg\", \n",
    "output_image_path=\"resources/images/image_yolo.jpg\", minimum_percentage_probability=30)\n",
    "\n",
    "for eachObject in detections:\n",
    "    print(eachObject[\"name\"] , \" : \", eachObject[\"percentage_probability\"], \" : \", eachObject[\"box_points\"] )\n",
    "    print(\"--------------------------------\")"
   ]
  },
  {
   "cell_type": "code",
   "execution_count": null,
   "metadata": {},
   "outputs": [],
   "source": []
  }
 ],
 "metadata": {
  "kernelspec": {
   "display_name": "pythondata",
   "language": "python",
   "name": "pythondata"
  },
  "language_info": {
   "codemirror_mode": {
    "name": "ipython",
    "version": 3
   },
   "file_extension": ".py",
   "mimetype": "text/x-python",
   "name": "python",
   "nbconvert_exporter": "python",
   "pygments_lexer": "ipython3",
   "version": "3.6.8"
  }
 },
 "nbformat": 4,
 "nbformat_minor": 2
}
